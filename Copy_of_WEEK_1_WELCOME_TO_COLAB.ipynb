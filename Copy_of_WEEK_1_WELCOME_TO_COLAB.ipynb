{
  "nbformat": 4,
  "nbformat_minor": 0,
  "metadata": {
    "colab": {
      "name": "Copy of WEEK 1 WELCOME TO COLAB",
      "provenance": [],
      "collapsed_sections": [],
      "include_colab_link": true
    },
    "kernelspec": {
      "display_name": "Python 3",
      "name": "python3"
    }
  },
  "cells": [
    {
      "cell_type": "markdown",
      "metadata": {
        "id": "view-in-github",
        "colab_type": "text"
      },
      "source": [
        "<a href=\"https://colab.research.google.com/github/cooljonhboy1234/COMP-953/blob/main/Copy_of_WEEK_1_WELCOME_TO_COLAB.ipynb\" target=\"_parent\"><img src=\"https://colab.research.google.com/assets/colab-badge.svg\" alt=\"Open In Colab\"/></a>"
      ]
    },
    {
      "cell_type": "markdown",
      "metadata": {
        "id": "GJBs_flRovLc"
      },
      "source": [
        "## **Welcome to COMP 593!**\n",
        "\n",
        "For your first lab, we will experiment with running a script, and saving our project to our personal github repositories:"
      ]
    },
    {
      "cell_type": "markdown",
      "metadata": {
        "id": "xn279PBwVnDj"
      },
      "source": [
        "##Installing Dependancies##\r\n",
        "\r\n",
        "Dependancies are routines, Objects, and methods that a project requires. We add Dependancies to our project in the form of **Libraries** when we want to unlock functionality that already exists, this could be as simple as file IO or as complex as fully fledged Machine Learning libraries. Libraries can be added to our project manually, by downloading them and placing them in our runtime enviornment, or using a **Package Manager** such as PIP."
      ]
    },
    {
      "cell_type": "markdown",
      "metadata": {
        "id": "-IWb3REjW5T0"
      },
      "source": [
        "Run the below code to download the **pyfiglet** library, which we will use to generate some ASCII art."
      ]
    },
    {
      "cell_type": "code",
      "metadata": {
        "id": "ARUZhh6MS7nA",
        "colab": {
          "base_uri": "https://localhost:8080/"
        },
        "outputId": "4bbb5b95-1098-43cd-cca3-371816a7b9a3"
      },
      "source": [
        "pip install pyfiglet\r\n"
      ],
      "execution_count": 2,
      "outputs": [
        {
          "output_type": "stream",
          "text": [
            "Collecting pyfiglet\n",
            "\u001b[?25l  Downloading https://files.pythonhosted.org/packages/33/07/fcfdd7a2872f5b348953de35acce1544dab0c1e8368dca54279b1cde5c15/pyfiglet-0.8.post1-py2.py3-none-any.whl (865kB)\n",
            "\r\u001b[K     |▍                               | 10kB 18.4MB/s eta 0:00:01\r\u001b[K     |▊                               | 20kB 10.7MB/s eta 0:00:01\r\u001b[K     |█▏                              | 30kB 8.8MB/s eta 0:00:01\r\u001b[K     |█▌                              | 40kB 8.2MB/s eta 0:00:01\r\u001b[K     |██                              | 51kB 5.1MB/s eta 0:00:01\r\u001b[K     |██▎                             | 61kB 5.0MB/s eta 0:00:01\r\u001b[K     |██▋                             | 71kB 5.5MB/s eta 0:00:01\r\u001b[K     |███                             | 81kB 5.9MB/s eta 0:00:01\r\u001b[K     |███▍                            | 92kB 5.9MB/s eta 0:00:01\r\u001b[K     |███▉                            | 102kB 6.0MB/s eta 0:00:01\r\u001b[K     |████▏                           | 112kB 6.0MB/s eta 0:00:01\r\u001b[K     |████▌                           | 122kB 6.0MB/s eta 0:00:01\r\u001b[K     |█████                           | 133kB 6.0MB/s eta 0:00:01\r\u001b[K     |█████▎                          | 143kB 6.0MB/s eta 0:00:01\r\u001b[K     |█████▊                          | 153kB 6.0MB/s eta 0:00:01\r\u001b[K     |██████                          | 163kB 6.0MB/s eta 0:00:01\r\u001b[K     |██████▍                         | 174kB 6.0MB/s eta 0:00:01\r\u001b[K     |██████▉                         | 184kB 6.0MB/s eta 0:00:01\r\u001b[K     |███████▏                        | 194kB 6.0MB/s eta 0:00:01\r\u001b[K     |███████▋                        | 204kB 6.0MB/s eta 0:00:01\r\u001b[K     |████████                        | 215kB 6.0MB/s eta 0:00:01\r\u001b[K     |████████▎                       | 225kB 6.0MB/s eta 0:00:01\r\u001b[K     |████████▊                       | 235kB 6.0MB/s eta 0:00:01\r\u001b[K     |█████████                       | 245kB 6.0MB/s eta 0:00:01\r\u001b[K     |█████████▌                      | 256kB 6.0MB/s eta 0:00:01\r\u001b[K     |█████████▉                      | 266kB 6.0MB/s eta 0:00:01\r\u001b[K     |██████████▏                     | 276kB 6.0MB/s eta 0:00:01\r\u001b[K     |██████████▋                     | 286kB 6.0MB/s eta 0:00:01\r\u001b[K     |███████████                     | 296kB 6.0MB/s eta 0:00:01\r\u001b[K     |███████████▍                    | 307kB 6.0MB/s eta 0:00:01\r\u001b[K     |███████████▊                    | 317kB 6.0MB/s eta 0:00:01\r\u001b[K     |████████████                    | 327kB 6.0MB/s eta 0:00:01\r\u001b[K     |████████████▌                   | 337kB 6.0MB/s eta 0:00:01\r\u001b[K     |████████████▉                   | 348kB 6.0MB/s eta 0:00:01\r\u001b[K     |█████████████▎                  | 358kB 6.0MB/s eta 0:00:01\r\u001b[K     |█████████████▋                  | 368kB 6.0MB/s eta 0:00:01\r\u001b[K     |██████████████                  | 378kB 6.0MB/s eta 0:00:01\r\u001b[K     |██████████████▍                 | 389kB 6.0MB/s eta 0:00:01\r\u001b[K     |██████████████▊                 | 399kB 6.0MB/s eta 0:00:01\r\u001b[K     |███████████████▏                | 409kB 6.0MB/s eta 0:00:01\r\u001b[K     |███████████████▌                | 419kB 6.0MB/s eta 0:00:01\r\u001b[K     |████████████████                | 430kB 6.0MB/s eta 0:00:01\r\u001b[K     |████████████████▎               | 440kB 6.0MB/s eta 0:00:01\r\u001b[K     |████████████████▋               | 450kB 6.0MB/s eta 0:00:01\r\u001b[K     |█████████████████               | 460kB 6.0MB/s eta 0:00:01\r\u001b[K     |█████████████████▍              | 471kB 6.0MB/s eta 0:00:01\r\u001b[K     |█████████████████▉              | 481kB 6.0MB/s eta 0:00:01\r\u001b[K     |██████████████████▏             | 491kB 6.0MB/s eta 0:00:01\r\u001b[K     |██████████████████▌             | 501kB 6.0MB/s eta 0:00:01\r\u001b[K     |███████████████████             | 512kB 6.0MB/s eta 0:00:01\r\u001b[K     |███████████████████▎            | 522kB 6.0MB/s eta 0:00:01\r\u001b[K     |███████████████████▊            | 532kB 6.0MB/s eta 0:00:01\r\u001b[K     |████████████████████            | 542kB 6.0MB/s eta 0:00:01\r\u001b[K     |████████████████████▍           | 552kB 6.0MB/s eta 0:00:01\r\u001b[K     |████████████████████▉           | 563kB 6.0MB/s eta 0:00:01\r\u001b[K     |█████████████████████▏          | 573kB 6.0MB/s eta 0:00:01\r\u001b[K     |█████████████████████▋          | 583kB 6.0MB/s eta 0:00:01\r\u001b[K     |██████████████████████          | 593kB 6.0MB/s eta 0:00:01\r\u001b[K     |██████████████████████▎         | 604kB 6.0MB/s eta 0:00:01\r\u001b[K     |██████████████████████▊         | 614kB 6.0MB/s eta 0:00:01\r\u001b[K     |███████████████████████         | 624kB 6.0MB/s eta 0:00:01\r\u001b[K     |███████████████████████▌        | 634kB 6.0MB/s eta 0:00:01\r\u001b[K     |███████████████████████▉        | 645kB 6.0MB/s eta 0:00:01\r\u001b[K     |████████████████████████▏       | 655kB 6.0MB/s eta 0:00:01\r\u001b[K     |████████████████████████▋       | 665kB 6.0MB/s eta 0:00:01\r\u001b[K     |█████████████████████████       | 675kB 6.0MB/s eta 0:00:01\r\u001b[K     |█████████████████████████▍      | 686kB 6.0MB/s eta 0:00:01\r\u001b[K     |█████████████████████████▊      | 696kB 6.0MB/s eta 0:00:01\r\u001b[K     |██████████████████████████▏     | 706kB 6.0MB/s eta 0:00:01\r\u001b[K     |██████████████████████████▌     | 716kB 6.0MB/s eta 0:00:01\r\u001b[K     |██████████████████████████▉     | 727kB 6.0MB/s eta 0:00:01\r\u001b[K     |███████████████████████████▎    | 737kB 6.0MB/s eta 0:00:01\r\u001b[K     |███████████████████████████▋    | 747kB 6.0MB/s eta 0:00:01\r\u001b[K     |████████████████████████████    | 757kB 6.0MB/s eta 0:00:01\r\u001b[K     |████████████████████████████▍   | 768kB 6.0MB/s eta 0:00:01\r\u001b[K     |████████████████████████████▊   | 778kB 6.0MB/s eta 0:00:01\r\u001b[K     |█████████████████████████████▏  | 788kB 6.0MB/s eta 0:00:01\r\u001b[K     |█████████████████████████████▌  | 798kB 6.0MB/s eta 0:00:01\r\u001b[K     |██████████████████████████████  | 808kB 6.0MB/s eta 0:00:01\r\u001b[K     |██████████████████████████████▎ | 819kB 6.0MB/s eta 0:00:01\r\u001b[K     |██████████████████████████████▋ | 829kB 6.0MB/s eta 0:00:01\r\u001b[K     |███████████████████████████████ | 839kB 6.0MB/s eta 0:00:01\r\u001b[K     |███████████████████████████████▍| 849kB 6.0MB/s eta 0:00:01\r\u001b[K     |███████████████████████████████▉| 860kB 6.0MB/s eta 0:00:01\r\u001b[K     |████████████████████████████████| 870kB 6.0MB/s \n",
            "\u001b[?25hInstalling collected packages: pyfiglet\n",
            "Successfully installed pyfiglet-0.8.post1\n"
          ],
          "name": "stdout"
        }
      ]
    },
    {
      "cell_type": "markdown",
      "metadata": {
        "id": "SNXKhb5XXqF4"
      },
      "source": [
        "There are *hundreds of thousands* of python libraries at your disposal. Some may suit your needs better than others depending on the goals of your scripts or applications. The [PyPi Repository](https://https://pypi.org/) contains a serchable database of packages that are installable via the pip package manager.\r\n",
        "\r\n",
        "Run the code below to get an idea of the number of packages that are included for your user within Colab. You don't need to know what all of these do, but it should indicate that python is a very powerful language."
      ]
    },
    {
      "cell_type": "code",
      "metadata": {
        "id": "C7A8viiJXiDs",
        "colab": {
          "base_uri": "https://localhost:8080/"
        },
        "outputId": "e9106900-919f-4206-b062-0f3abb3d2adb"
      },
      "source": [
        "pip list"
      ],
      "execution_count": 4,
      "outputs": [
        {
          "output_type": "stream",
          "text": [
            "Package                       Version        \n",
            "----------------------------- ---------------\n",
            "absl-py                       0.10.0         \n",
            "alabaster                     0.7.12         \n",
            "albumentations                0.1.12         \n",
            "altair                        4.1.0          \n",
            "appdirs                       1.4.4          \n",
            "argon2-cffi                   20.1.0         \n",
            "asgiref                       3.3.1          \n",
            "astor                         0.8.1          \n",
            "astropy                       4.1            \n",
            "astunparse                    1.6.3          \n",
            "async-generator               1.10           \n",
            "atari-py                      0.2.6          \n",
            "atomicwrites                  1.4.0          \n",
            "attrs                         20.3.0         \n",
            "audioread                     2.1.9          \n",
            "autograd                      1.3            \n",
            "Babel                         2.9.0          \n",
            "backcall                      0.2.0          \n",
            "beautifulsoup4                4.6.3          \n",
            "bleach                        3.2.2          \n",
            "blis                          0.4.1          \n",
            "bokeh                         2.1.1          \n",
            "Bottleneck                    1.3.2          \n",
            "branca                        0.4.2          \n",
            "bs4                           0.0.1          \n",
            "CacheControl                  0.12.6         \n",
            "cachetools                    4.2.1          \n",
            "catalogue                     1.0.0          \n",
            "certifi                       2020.12.5      \n",
            "cffi                          1.14.4         \n",
            "chainer                       7.4.0          \n",
            "chardet                       3.0.4          \n",
            "click                         7.1.2          \n",
            "cloudpickle                   1.3.0          \n",
            "cmake                         3.12.0         \n",
            "cmdstanpy                     0.9.5          \n",
            "colorlover                    0.3.0          \n",
            "community                     1.0.0b1        \n",
            "contextlib2                   0.5.5          \n",
            "convertdate                   2.2.0          \n",
            "coverage                      3.7.1          \n",
            "coveralls                     0.5            \n",
            "crcmod                        1.7            \n",
            "cufflinks                     0.17.3         \n",
            "cvxopt                        1.2.5          \n",
            "cvxpy                         1.0.31         \n",
            "cycler                        0.10.0         \n",
            "cymem                         2.0.5          \n",
            "Cython                        0.29.21        \n",
            "daft                          0.0.4          \n",
            "dask                          2.12.0         \n",
            "dataclasses                   0.8            \n",
            "datascience                   0.10.6         \n",
            "debugpy                       1.0.0          \n",
            "decorator                     4.4.2          \n",
            "defusedxml                    0.6.0          \n",
            "descartes                     1.1.0          \n",
            "dill                          0.3.3          \n",
            "distributed                   1.25.3         \n",
            "Django                        3.1.5          \n",
            "dlib                          19.18.0        \n",
            "dm-tree                       0.1.5          \n",
            "docopt                        0.6.2          \n",
            "docutils                      0.16           \n",
            "dopamine-rl                   1.0.5          \n",
            "earthengine-api               0.1.238        \n",
            "easydict                      1.9            \n",
            "ecos                          2.0.7.post1    \n",
            "editdistance                  0.5.3          \n",
            "en-core-web-sm                2.2.5          \n",
            "entrypoints                   0.3            \n",
            "ephem                         3.7.7.1        \n",
            "et-xmlfile                    1.0.1          \n",
            "fa2                           0.3.5          \n",
            "fancyimpute                   0.4.3          \n",
            "fastai                        1.0.61         \n",
            "fastdtw                       0.3.4          \n",
            "fastprogress                  1.0.0          \n",
            "fastrlock                     0.5            \n",
            "fbprophet                     0.7.1          \n",
            "feather-format                0.4.1          \n",
            "filelock                      3.0.12         \n",
            "firebase-admin                4.4.0          \n",
            "fix-yahoo-finance             0.0.22         \n",
            "Flask                         1.1.2          \n",
            "flatbuffers                   1.12           \n",
            "folium                        0.8.3          \n",
            "future                        0.16.0         \n",
            "gast                          0.3.3          \n",
            "GDAL                          2.2.2          \n",
            "gdown                         3.6.4          \n",
            "gensim                        3.6.0          \n",
            "geographiclib                 1.50           \n",
            "geopy                         1.17.0         \n",
            "gin-config                    0.4.0          \n",
            "glob2                         0.7            \n",
            "google                        2.0.3          \n",
            "google-api-core               1.16.0         \n",
            "google-api-python-client      1.7.12         \n",
            "google-auth                   1.17.2         \n",
            "google-auth-httplib2          0.0.4          \n",
            "google-auth-oauthlib          0.4.2          \n",
            "google-cloud-bigquery         1.21.0         \n",
            "google-cloud-bigquery-storage 1.1.0          \n",
            "google-cloud-core             1.0.3          \n",
            "google-cloud-datastore        1.8.0          \n",
            "google-cloud-firestore        1.7.0          \n",
            "google-cloud-language         1.2.0          \n",
            "google-cloud-storage          1.18.1         \n",
            "google-cloud-translate        1.5.0          \n",
            "google-colab                  1.0.0          \n",
            "google-pasta                  0.2.0          \n",
            "google-resumable-media        0.4.1          \n",
            "googleapis-common-protos      1.52.0         \n",
            "googledrivedownloader         0.4            \n",
            "graphviz                      0.10.1         \n",
            "grpcio                        1.32.0         \n",
            "gspread                       3.0.1          \n",
            "gspread-dataframe             3.0.8          \n",
            "gym                           0.17.3         \n",
            "h5py                          2.10.0         \n",
            "HeapDict                      1.0.1          \n",
            "holidays                      0.10.4         \n",
            "holoviews                     1.13.5         \n",
            "html5lib                      1.0.1          \n",
            "httpimport                    0.5.18         \n",
            "httplib2                      0.17.4         \n",
            "httplib2shim                  0.0.3          \n",
            "humanize                      0.5.1          \n",
            "hyperopt                      0.1.2          \n",
            "ideep4py                      2.0.0.post3    \n",
            "idna                          2.10           \n",
            "image                         1.5.33         \n",
            "imageio                       2.4.1          \n",
            "imagesize                     1.2.0          \n",
            "imbalanced-learn              0.4.3          \n",
            "imblearn                      0.0            \n",
            "imgaug                        0.2.9          \n",
            "importlib-metadata            3.4.0          \n",
            "importlib-resources           5.1.0          \n",
            "imutils                       0.5.4          \n",
            "inflect                       2.1.0          \n",
            "iniconfig                     1.1.1          \n",
            "intel-openmp                  2021.1.2       \n",
            "intervaltree                  2.1.0          \n",
            "ipykernel                     4.10.1         \n",
            "ipython                       5.5.0          \n",
            "ipython-genutils              0.2.0          \n",
            "ipython-sql                   0.3.9          \n",
            "ipywidgets                    7.6.3          \n",
            "itsdangerous                  1.1.0          \n",
            "jax                           0.2.7          \n",
            "jaxlib                        0.1.57+cuda101 \n",
            "jdcal                         1.4.1          \n",
            "jedi                          0.18.0         \n",
            "jieba                         0.42.1         \n",
            "Jinja2                        2.11.2         \n",
            "joblib                        1.0.0          \n",
            "jpeg4py                       0.1.4          \n",
            "jsonschema                    2.6.0          \n",
            "jupyter                       1.0.0          \n",
            "jupyter-client                5.3.5          \n",
            "jupyter-console               5.2.0          \n",
            "jupyter-core                  4.7.0          \n",
            "jupyterlab-pygments           0.1.2          \n",
            "jupyterlab-widgets            1.0.0          \n",
            "kaggle                        1.5.10         \n",
            "kapre                         0.1.3.1        \n",
            "Keras                         2.4.3          \n",
            "Keras-Preprocessing           1.1.2          \n",
            "keras-vis                     0.4.1          \n",
            "kiwisolver                    1.3.1          \n",
            "knnimpute                     0.1.0          \n",
            "korean-lunar-calendar         0.2.1          \n",
            "librosa                       0.8.0          \n",
            "lightgbm                      2.2.3          \n",
            "llvmlite                      0.34.0         \n",
            "lmdb                          0.99           \n",
            "lucid                         0.3.8          \n",
            "LunarCalendar                 0.0.9          \n",
            "lxml                          4.2.6          \n",
            "Markdown                      3.3.3          \n",
            "MarkupSafe                    1.1.1          \n",
            "matplotlib                    3.2.2          \n",
            "matplotlib-venn               0.11.6         \n",
            "missingno                     0.4.2          \n",
            "mistune                       0.8.4          \n",
            "mizani                        0.6.0          \n",
            "mkl                           2019.0         \n",
            "mlxtend                       0.14.0         \n",
            "more-itertools                8.6.0          \n",
            "moviepy                       0.2.3.5        \n",
            "mpmath                        1.1.0          \n",
            "msgpack                       1.0.2          \n",
            "multiprocess                  0.70.11.1      \n",
            "multitasking                  0.0.9          \n",
            "murmurhash                    1.0.5          \n",
            "music21                       5.5.0          \n",
            "natsort                       5.5.0          \n",
            "nbclient                      0.5.1          \n",
            "nbconvert                     5.6.1          \n",
            "nbformat                      5.1.2          \n",
            "nest-asyncio                  1.4.3          \n",
            "networkx                      2.5            \n",
            "nibabel                       3.0.2          \n",
            "nltk                          3.2.5          \n",
            "notebook                      5.3.1          \n",
            "np-utils                      0.5.12.1       \n",
            "numba                         0.51.2         \n",
            "numexpr                       2.7.2          \n",
            "numpy                         1.19.5         \n",
            "nvidia-ml-py3                 7.352.0        \n",
            "oauth2client                  4.1.3          \n",
            "oauthlib                      3.1.0          \n",
            "okgrade                       0.4.3          \n",
            "opencv-contrib-python         4.1.2.30       \n",
            "opencv-python                 4.1.2.30       \n",
            "openpyxl                      2.5.9          \n",
            "opt-einsum                    3.3.0          \n",
            "osqp                          0.6.2.post0    \n",
            "packaging                     20.8           \n",
            "palettable                    3.3.0          \n",
            "pandas                        1.1.5          \n",
            "pandas-datareader             0.9.0          \n",
            "pandas-gbq                    0.13.3         \n",
            "pandas-profiling              1.4.1          \n",
            "pandocfilters                 1.4.3          \n",
            "panel                         0.9.7          \n",
            "param                         1.10.1         \n",
            "parso                         0.8.1          \n",
            "pathlib                       1.0.1          \n",
            "patsy                         0.5.1          \n",
            "pexpect                       4.8.0          \n",
            "pickleshare                   0.7.5          \n",
            "Pillow                        7.0.0          \n",
            "pip                           19.3.1         \n",
            "pip-tools                     4.5.1          \n",
            "plac                          1.1.3          \n",
            "plotly                        4.4.1          \n",
            "plotnine                      0.6.0          \n",
            "pluggy                        0.7.1          \n",
            "pooch                         1.3.0          \n",
            "portpicker                    1.3.1          \n",
            "prefetch-generator            1.0.1          \n",
            "preshed                       3.0.5          \n",
            "prettytable                   2.0.0          \n",
            "progressbar2                  3.38.0         \n",
            "prometheus-client             0.9.0          \n",
            "promise                       2.3            \n",
            "prompt-toolkit                1.0.18         \n",
            "protobuf                      3.12.4         \n",
            "psutil                        5.4.8          \n",
            "psycopg2                      2.7.6.1        \n",
            "ptyprocess                    0.7.0          \n",
            "py                            1.10.0         \n",
            "pyarrow                       0.14.1         \n",
            "pyasn1                        0.4.8          \n",
            "pyasn1-modules                0.2.8          \n",
            "pycocotools                   2.0.2          \n",
            "pycparser                     2.20           \n",
            "pyct                          0.4.8          \n",
            "pydata-google-auth            1.1.0          \n",
            "pydot                         1.3.0          \n",
            "pydot-ng                      2.0.0          \n",
            "pydotplus                     2.0.2          \n",
            "PyDrive                       1.3.1          \n",
            "pyemd                         0.5.1          \n",
            "pyfiglet                      0.8.post1      \n",
            "pyglet                        1.5.0          \n",
            "Pygments                      2.6.1          \n",
            "pygobject                     3.26.1         \n",
            "pymc3                         3.7            \n",
            "PyMeeus                       0.3.7          \n",
            "pymongo                       3.11.2         \n",
            "pymystem3                     0.2.0          \n",
            "pynndescent                   0.5.1          \n",
            "PyOpenGL                      3.1.5          \n",
            "pyparsing                     2.4.7          \n",
            "pyrsistent                    0.17.3         \n",
            "pysndfile                     1.3.8          \n",
            "PySocks                       1.7.1          \n",
            "pystan                        2.19.1.1       \n",
            "pytest                        3.6.4          \n",
            "python-apt                    1.6.5+ubuntu0.5\n",
            "python-chess                  0.23.11        \n",
            "python-dateutil               2.8.1          \n",
            "python-louvain                0.15           \n",
            "python-slugify                4.0.1          \n",
            "python-utils                  2.5.3          \n",
            "pytz                          2018.9         \n",
            "pyviz-comms                   2.0.1          \n",
            "PyWavelets                    1.1.1          \n",
            "PyYAML                        3.13           \n",
            "pyzmq                         21.0.1         \n",
            "qdldl                         0.1.5.post0    \n",
            "qtconsole                     5.0.2          \n",
            "QtPy                          1.9.0          \n",
            "regex                         2019.12.20     \n",
            "requests                      2.23.0         \n",
            "requests-oauthlib             1.3.0          \n",
            "resampy                       0.2.2          \n",
            "retrying                      1.3.3          \n",
            "rpy2                          3.2.7          \n",
            "rsa                           4.7            \n",
            "scikit-image                  0.16.2         \n",
            "scikit-learn                  0.22.2.post1   \n",
            "scipy                         1.4.1          \n",
            "screen-resolution-extra       0.0.0          \n",
            "scs                           2.1.2          \n",
            "seaborn                       0.11.1         \n",
            "Send2Trash                    1.5.0          \n",
            "setuptools                    51.3.3         \n",
            "setuptools-git                1.2            \n",
            "Shapely                       1.7.1          \n",
            "simplegeneric                 0.8.1          \n",
            "six                           1.15.0         \n",
            "sklearn                       0.0            \n",
            "sklearn-pandas                1.8.0          \n",
            "smart-open                    4.1.2          \n",
            "snowballstemmer               2.1.0          \n",
            "sortedcontainers              2.3.0          \n",
            "SoundFile                     0.10.3.post1   \n",
            "spacy                         2.2.4          \n",
            "Sphinx                        1.8.5          \n",
            "sphinxcontrib-serializinghtml 1.1.4          \n",
            "sphinxcontrib-websupport      1.2.4          \n",
            "SQLAlchemy                    1.3.22         \n",
            "sqlparse                      0.4.1          \n",
            "srsly                         1.0.5          \n",
            "statsmodels                   0.10.2         \n",
            "sympy                         1.1.1          \n",
            "tables                        3.4.4          \n",
            "tabulate                      0.8.7          \n",
            "tblib                         1.7.0          \n",
            "tensorboard                   2.4.1          \n",
            "tensorboard-plugin-wit        1.8.0          \n",
            "tensorboardcolab              0.0.22         \n",
            "tensorflow                    2.4.1          \n",
            "tensorflow-addons             0.8.3          \n",
            "tensorflow-datasets           4.0.1          \n",
            "tensorflow-estimator          2.4.0          \n",
            "tensorflow-gcs-config         2.4.0          \n",
            "tensorflow-hub                0.11.0         \n",
            "tensorflow-metadata           0.27.0         \n",
            "tensorflow-privacy            0.2.2          \n",
            "tensorflow-probability        0.12.1         \n",
            "termcolor                     1.1.0          \n",
            "terminado                     0.9.2          \n",
            "testpath                      0.4.4          \n",
            "text-unidecode                1.3            \n",
            "textblob                      0.15.3         \n",
            "textgenrnn                    1.4.1          \n",
            "Theano                        1.0.5          \n",
            "thinc                         7.4.0          \n",
            "tifffile                      2020.9.3       \n",
            "toml                          0.10.2         \n",
            "toolz                         0.11.1         \n",
            "torch                         1.7.0+cu101    \n",
            "torchsummary                  1.5.1          \n",
            "torchtext                     0.3.1          \n",
            "torchvision                   0.8.1+cu101    \n",
            "tornado                       5.1.1          \n",
            "tqdm                          4.41.1         \n",
            "traitlets                     4.3.3          \n",
            "tweepy                        3.6.0          \n",
            "typeguard                     2.7.1          \n",
            "typing-extensions             3.7.4.3        \n",
            "tzlocal                       1.5.1          \n",
            "umap-learn                    0.5.0          \n",
            "uritemplate                   3.0.1          \n",
            "urllib3                       1.24.3         \n",
            "vega-datasets                 0.9.0          \n",
            "wasabi                        0.8.1          \n",
            "wcwidth                       0.2.5          \n",
            "webencodings                  0.5.1          \n",
            "Werkzeug                      1.0.1          \n",
            "wheel                         0.36.2         \n",
            "widgetsnbextension            3.5.1          \n",
            "wordcloud                     1.5.0          \n",
            "wrapt                         1.12.1         \n",
            "xarray                        0.15.1         \n",
            "xgboost                       0.90           \n",
            "xkit                          0.0.0          \n",
            "xlrd                          1.1.0          \n",
            "xlwt                          1.3.0          \n",
            "yellowbrick                   0.9.1          \n",
            "zict                          2.0.0          \n",
            "zipp                          3.4.0          \n"
          ],
          "name": "stdout"
        }
      ]
    },
    {
      "cell_type": "markdown",
      "metadata": {
        "id": "zopYZ3PcY6hR"
      },
      "source": [
        "If you would like to see if pyfiglet was installed, you could scan the list above, or you could **pipe** the output of `pip list` to a console command known as `grep` that will filter for specific strings. This is an example of **redirecting output,** which you have learned about already.\r\n",
        "\r\n",
        "\r\n"
      ]
    },
    {
      "cell_type": "code",
      "metadata": {
        "id": "oAMcMjbLZMIE",
        "colab": {
          "base_uri": "https://localhost:8080/"
        },
        "outputId": "c04aa88c-49b9-4ec8-b4f7-c09e8d44462e"
      },
      "source": [
        "pip list | grep pyfiglet "
      ],
      "execution_count": 5,
      "outputs": [
        {
          "output_type": "stream",
          "text": [
            "pyfiglet                      0.8.post1      \n"
          ],
          "name": "stdout"
        }
      ]
    },
    {
      "cell_type": "markdown",
      "metadata": {
        "id": "gt5dp771Yc2c"
      },
      "source": [
        "# Writing Our Script"
      ]
    },
    {
      "cell_type": "markdown",
      "metadata": {
        "id": "Hh36394HaB3g"
      },
      "source": [
        "The intention of this Colab introduction is to get you familiar with using google Colab to accomplish scripting goals. Today, we will be using the `pyfiglet` library we have just installed to output some text. To understand the methods available to us in `pyfiglet` we can look up [the github repository.](https://github.com/pwaller/pyfiglet)\r\n",
        "\r\n",
        "***Remember: Since open source packages are at the mercy of their developers or maintainers, comprehensive documentation is never a guarantee.***\r\n",
        "\r\n",
        "The help documentation outlines a command line `--help` argument, which means that documentation exists. We can't call command line arguments for imported libraries in colab, but we *can* accomplish the same goal in colab by using the python `help([Object])` function."
      ]
    },
    {
      "cell_type": "code",
      "metadata": {
        "id": "zR6mZpfkgRxd",
        "colab": {
          "base_uri": "https://localhost:8080/"
        },
        "outputId": "ab6a9ea9-a939-459f-bc93-1bd2c463a70c"
      },
      "source": [
        "from pyfiglet import Figlet\r\n",
        "\r\n",
        "help(Figlet)"
      ],
      "execution_count": 8,
      "outputs": [
        {
          "output_type": "stream",
          "text": [
            "Help on class Figlet in module pyfiglet:\n",
            "\n",
            "class Figlet(builtins.object)\n",
            " |  Main figlet class.\n",
            " |  \n",
            " |  Methods defined here:\n",
            " |  \n",
            " |  __init__(self, font='standard', direction='auto', justify='auto', width=80)\n",
            " |      Initialize self.  See help(type(self)) for accurate signature.\n",
            " |  \n",
            " |  getDirection(self)\n",
            " |  \n",
            " |  getFonts(self)\n",
            " |  \n",
            " |  getJustify(self)\n",
            " |  \n",
            " |  renderText(self, text)\n",
            " |  \n",
            " |  setFont(self, **kwargs)\n",
            " |  \n",
            " |  ----------------------------------------------------------------------\n",
            " |  Data descriptors defined here:\n",
            " |  \n",
            " |  __dict__\n",
            " |      dictionary for instance variables (if defined)\n",
            " |  \n",
            " |  __weakref__\n",
            " |      list of weak references to the object (if defined)\n",
            " |  \n",
            " |  direction\n",
            " |  \n",
            " |  justify\n",
            "\n"
          ],
          "name": "stdout"
        }
      ]
    },
    {
      "cell_type": "markdown",
      "metadata": {
        "id": "UxKlfQJrmq4N"
      },
      "source": [
        "Using this function we can see that the `Figlet` object has several methods available. This will bring us to your task:\r\n",
        "\r\n",
        "\r\n",
        "**In the editor below, finish a script that accomplishes the following goals:**\r\n",
        "\r\n",
        "1.   Prompt the user to select from a list of 5 fonts.\r\n",
        "2.   Prompt the user to input the string they would like output in that font.\r\n",
        "3.   Render the text using the selected font.\r\n",
        "\r\n",
        "*Hint:* Call the `getFonts()` method to get a list of the available fonts."
      ]
    },
    {
      "cell_type": "code",
      "metadata": {
        "id": "b2y8sufRoEpR",
        "colab": {
          "base_uri": "https://localhost:8080/"
        },
        "outputId": "79acfaf5-91c4-44da-90e1-95b12ddf51ca"
      },
      "source": [
        "from pyfiglet import Figlet\r\n",
        "\r\n",
        "#Instantiate a Figlet Object\r\n",
        "figlet = Figlet()\r\n",
        "\r\n",
        "#Prompt the user to select a font\r\n",
        "selectedFont = input(\"Select a font: \\n 1. catwalk \\n 2. basic \\n 3. nipples \\n 4. avatar\\n 5. banner \\n >>> \")\r\n",
        "\r\n",
        "#Prompt the user to type a message\r\n",
        "# ... ... ...\r\n",
        "font_Sel_user = input(\"Enter a string to convert it to the desired font: \")\r\n",
        "font = Figlet(font=selectedFont)\r\n",
        "\r\n",
        "conv = font.renderText(font_Sel_user)\r\n",
        "\r\n",
        "print(conv)\r\n"
      ],
      "execution_count": 10,
      "outputs": [
        {
          "output_type": "stream",
          "text": [
            "Select a font: \n",
            " 1. catwalk \n",
            " 2. basic \n",
            " 3. nipples \n",
            " 4. avatar\n",
            " 5. banner \n",
            " >>> nipples\n",
            "Enter a string to convert it to the desired font: how about a party\n",
            "                                         {__                          {__  \n",
            "{__                                      {__                          {__  \n",
            "{__        {__    {__     {___    {__    {__         {__    {__  {__{_{_ {_\n",
            "{_ {_    {__  {__  {__  _  {__  {__  {__ {__ {__   {__  {__ {__  {__  {__  \n",
            "{__  {__{__    {__ {__ {_  {__ {__   {__ {__   {__{__    {__{__  {__  {__  \n",
            "{_   {__ {__  {__  {_ {_ {_{__ {__   {__ {__   {__ {__  {__ {__  {__  {__  \n",
            "{__  {__   {__    {___    {___   {__ {___{__ {__     {__      {__{__   {__ \n",
            "                                                                           \n",
            "                                      {__           \n",
            "                                      {__           \n",
            "   {__     {_ {__     {__    {_ {___{_{_ {_{__   {__\n",
            " {__  {__  {_  {__  {__  {__  {__     {__   {__ {__ \n",
            "{__   {__  {_   {__{__   {__  {__     {__     {___  \n",
            "{__   {__  {__ {__ {__   {__  {__     {__      {__  \n",
            "  {__ {___ {__       {__ {___{___      {__    {__   \n",
            "           {__                              {__     \n",
            "\n"
          ],
          "name": "stdout"
        }
      ]
    },
    {
      "cell_type": "markdown",
      "metadata": {
        "id": "j0IEkEamX_6H"
      },
      "source": [
        "# DeepFaceLab\r\n",
        "\r\n",
        "\r\n",
        "\r\n"
      ]
    },
    {
      "cell_type": "markdown",
      "metadata": {
        "id": "8HHiOs9X_WWk"
      },
      "source": [
        "[DeepFaceLab](https://https://github.com/chervonij/DFL-Colab)\r\n",
        "\r\n",
        "How I think this Repo works is takes an image like .png for example of somebodys face along with a video they want use to make a fake video with someone elses face on it. It would most likely anaylise the person face from the image file and then anaylise the video given and morphan the image into the project face in the video.\r\n",
        "\r\n",
        "How it could work is hard coding face recgonition progames into the code so the code can differ between faces allowing the the face swap and then most likely layout the the image into the video where the software can recongize a face with the image, morphing it to make it look like the image givin from the video.\r\n"
      ]
    },
    {
      "cell_type": "markdown",
      "metadata": {
        "id": "wXiyORkQqUfz"
      },
      "source": [
        "# Submitting your Script"
      ]
    },
    {
      "cell_type": "markdown",
      "metadata": {
        "id": "eUMXNhytqZY6"
      },
      "source": [
        "Once you have succesfully completed your script, make sure to save it to your github account. (Take a look [at the official colab instructions](https://colab.research.google.com/github/googlecolab/colabtools/blob/master/notebooks/colab-github-demo.ipynb) if you need a refresher.)"
      ]
    }
  ]
}